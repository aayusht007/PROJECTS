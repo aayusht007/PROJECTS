{
 "cells": [
  {
   "cell_type": "code",
   "execution_count": 10,
   "id": "decb7017",
   "metadata": {},
   "outputs": [
    {
     "name": "stdout",
     "output_type": "stream",
     "text": [
      "Requirement already satisfied: pygame in c:\\users\\user\\anaconda3\\lib\\site-packages (2.1.2)\n"
     ]
    }
   ],
   "source": [
    "!pip install pygame"
   ]
  },
  {
   "cell_type": "code",
   "execution_count": 1,
   "id": "7097f884",
   "metadata": {},
   "outputs": [
    {
     "name": "stdout",
     "output_type": "stream",
     "text": [
      "pygame 2.1.2 (SDL 2.0.18, Python 3.9.7)\n",
      "Hello from the pygame community. https://www.pygame.org/contribute.html\n"
     ]
    }
   ],
   "source": [
    "# setting up pygame\n",
    "import pygame\n",
    "import requests\n",
    "\n",
    "WIDTH=550\n",
    "background_color=(255,255,0)\n",
    "original_grid_element_color=(255,0,0)\n",
    "buffer=5\n",
    "\n",
    "response=requests.get(\"https://sugoku.herokuapp.com/board?difficulty=easy\")\n",
    "grid=response.json()['board']\n",
    "grid_original=[[grid[x][y] for y in range(len(grid[0]))] for x in range(len(grid))]  \n",
    "\n",
    "def insert(win,position):\n",
    "    i,j=position[1],position[0]  \n",
    "    myfont=pygame.font.SysFont(\"Comic Sans MS\",35)\n",
    "    \n",
    "    while True:\n",
    "        for event in pygame.event.get():\n",
    "            if event.type==pygame.QUIT:\n",
    "                return\n",
    "            if event.type==pygame.KEYDOWN:# KD detecked when key is clicked\n",
    "                \n",
    "                #1 tries to edit original file\n",
    "                #2 edit by zero clearring the file\n",
    "                #3 adding the digits\n",
    "                \n",
    "                if (grid_original[i-1][j-1] !=0): #(start index 0 we -1) original is not disturbed \n",
    "                    return\n",
    "                if (event.key==48): #checking 0 which is asci 48 and 0=empty\n",
    "                    grid[i-1][j-1]= event.key-48 # which 0 cover with other rect\n",
    "                    pygame.draw.rect(win,background_color,(position[0]*50+buffer,position[1]*50+buffer,50- 2*buffer,50- 2*buffer)) #(x,y,height,width) *50 bcz divide down\n",
    "                    pygame.display.update()\n",
    "                    return\n",
    "                if(0< event.key-48 <10): #check 0 to 9 49-48=1 \n",
    "                    pygame.draw.rect(win,background_color,(position[0]*50+buffer,position[1]*50+buffer,50- 2*buffer,50- 2*buffer))\n",
    "                    value=myfont.render(str(event.key-48),True,(0,0,0))\n",
    "                    win.blit(value,(position[0]*50 +15,position[1]*50))\n",
    "                    grid[i-1][j-1]=event.key-48\n",
    "                    pygame.display.update()\n",
    "                    return \n",
    "                return\n",
    "\n",
    "\n",
    "def main():\n",
    "    pygame.init()  #initialize pygame  \n",
    "    win=pygame.display.set_mode((WIDTH,WIDTH)) #width and height val\n",
    "    pygame.display.set_caption(\"SUDOKU PRO\")\n",
    "    win.fill(background_color)\n",
    "    myfont=pygame.font.SysFont(\"Comic Sans MS\",35 )\n",
    "    \n",
    "    #for making grid\n",
    "    for i in range(0,10):\n",
    "        if (i%3==0):\n",
    "            pygame.draw.line(win,(0,0,0),(50+50*i,50),(50+50*i,500),4) # vertical(color=black,start cord,endcord(x,y),width=thickness)\n",
    "            pygame.draw.line(win,(0,0,0),(50,50+50*i),(500,50+50*i),4)\n",
    "            \n",
    "        pygame.draw.line(win,(0,0,0),(50+50*i,50),(50+50*i,500),2) # vertical(color=black,start cord,endcord(x,y),width=thickness)\n",
    "        pygame.draw.line(win,(0,0,0),(50,50+50*i),(500,50+50*i),2) # horizontal lines\n",
    "    pygame.display.update()\n",
    "    \n",
    "    for i in range(0,len(grid[0])):\n",
    "        for j in range(0,len(grid[0])):\n",
    "            if(0<grid[i][j]<10):\n",
    "                value=myfont.render(str(grid[i][j]),True,original_grid_element_color)\n",
    "                win.blit(value,((j+1)*50 +15,(i+1)*50)) # need cordinates instead of box*50, j=x and i=y acc to loops\n",
    "    pygame.display.update()\n",
    "    \n",
    "    \n",
    "    while True:\n",
    "        for event in pygame.event.get():\n",
    "            if event.type==pygame.MOUSEBUTTONUP and event.button==1: #(1=left click)\n",
    "                pos=pygame.mouse.get_pos()\n",
    "                insert(win,(pos[0]//50,pos[1]//50)) # to get block no not cordinates\n",
    "            if event.type == pygame.QUIT:\n",
    "                pygame.quit()\n",
    "                return\n",
    "\n",
    "            \n",
    "            \n",
    "main()\n"
   ]
  },
  {
   "cell_type": "code",
   "execution_count": 4,
   "id": "72c2efda",
   "metadata": {},
   "outputs": [
    {
     "name": "stdout",
     "output_type": "stream",
     "text": [
      "None\n"
     ]
    }
   ],
   "source": [
    "print(main())"
   ]
  },
  {
   "cell_type": "code",
   "execution_count": null,
   "id": "4e410a2d",
   "metadata": {},
   "outputs": [],
   "source": []
  }
 ],
 "metadata": {
  "kernelspec": {
   "display_name": "Python 3 (ipykernel)",
   "language": "python",
   "name": "python3"
  },
  "language_info": {
   "codemirror_mode": {
    "name": "ipython",
    "version": 3
   },
   "file_extension": ".py",
   "mimetype": "text/x-python",
   "name": "python",
   "nbconvert_exporter": "python",
   "pygments_lexer": "ipython3",
   "version": "3.9.7"
  }
 },
 "nbformat": 4,
 "nbformat_minor": 5
}
